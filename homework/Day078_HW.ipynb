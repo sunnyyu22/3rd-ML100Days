{
 "cells": [
  {
   "cell_type": "markdown",
   "metadata": {},
   "source": [
    "## Work\n",
    "1. 請嘗試將 preproc_x 替換成以每筆資料的 min/max 進行標準化至 -1 ~ 1 間，再進行訓練\n",
    "2. 請嘗試將 mlp 疊更深 (e.g 5~10 層)，進行訓練後觀察 learning curve 的走勢\n",
    "3. (optional) 請改用 GPU 進行訓練 (如果你有 GPU 的話)，比較使用 CPU 與 GPU 的訓練速度"
   ]
  },
  {
   "cell_type": "code",
   "execution_count": 15,
   "metadata": {},
   "outputs": [
    {
     "name": "stderr",
     "output_type": "stream",
     "text": [
      "'nvidia-smi' 不是內部或外部命令、可執行的程式或批次檔。\n"
     ]
    }
   ],
   "source": [
    "## \n",
    "\"\"\"\n",
    "Your code here (optional)\n",
    "確認硬體資源\n",
    "\"\"\"\n",
    "!nvidia-smi"
   ]
  },
  {
   "cell_type": "code",
   "execution_count": 2,
   "metadata": {},
   "outputs": [
    {
     "name": "stderr",
     "output_type": "stream",
     "text": [
      "Using TensorFlow backend.\n"
     ]
    }
   ],
   "source": [
    "import os\n",
    "import keras\n",
    "\n",
    "# 請嘗試設定 GPU：os.environ\n"
   ]
  },
  {
   "cell_type": "code",
   "execution_count": 3,
   "metadata": {},
   "outputs": [],
   "source": [
    "train, test = keras.datasets.cifar10.load_data()"
   ]
  },
  {
   "cell_type": "code",
   "execution_count": 6,
   "metadata": {},
   "outputs": [],
   "source": [
    "## 資料前處理\n",
    "\"\"\"\n",
    "Your code here\n",
    "\"\"\"\n",
    "def preproc_x(x, flatten = True):\n",
    "    x  = x / 255\n",
    "    if flatten:\n",
    "        x = x.reshape((len(x), -1))\n",
    "    return x\n",
    "\n",
    "def preproc_y(y, num_classes = 10):\n",
    "    if y.shape[-1] == 1:\n",
    "        y =  keras.utils.to_categorical(y, num_classes)\n",
    "    return y"
   ]
  },
  {
   "cell_type": "code",
   "execution_count": 7,
   "metadata": {},
   "outputs": [],
   "source": [
    "x_train, y_train = train\n",
    "x_test, y_test = test\n",
    "\n",
    "# Preproc the inputs\n",
    "x_train = preproc_x(x_train)\n",
    "x_test = preproc_x(x_test)\n",
    "\n",
    "# Preprc the outputs\n",
    "y_train = preproc_y(y_train)\n",
    "y_test = preproc_y(y_test)"
   ]
  },
  {
   "cell_type": "code",
   "execution_count": 9,
   "metadata": {},
   "outputs": [
    {
     "name": "stdout",
     "output_type": "stream",
     "text": [
      "Model: \"model_1\"\n",
      "_________________________________________________________________\n",
      "Layer (type)                 Output Shape              Param #   \n",
      "=================================================================\n",
      "input_2 (InputLayer)         (None, 3072)              0         \n",
      "_________________________________________________________________\n",
      "hidden_layer1 (Dense)        (None, 512)               1573376   \n",
      "_________________________________________________________________\n",
      "hidden_layer2 (Dense)        (None, 256)               131328    \n",
      "_________________________________________________________________\n",
      "hidden_layer3 (Dense)        (None, 128)               32896     \n",
      "_________________________________________________________________\n",
      "hidden_layer4 (Dense)        (None, 64)                8256      \n",
      "_________________________________________________________________\n",
      "hidden_layer5 (Dense)        (None, 32)                2080      \n",
      "_________________________________________________________________\n",
      "output (Dense)               (None, 10)                330       \n",
      "=================================================================\n",
      "Total params: 1,748,266\n",
      "Trainable params: 1,748,266\n",
      "Non-trainable params: 0\n",
      "_________________________________________________________________\n"
     ]
    }
   ],
   "source": [
    "\"\"\"Code Here\n",
    "建立你的神經網路\n",
    "\"\"\"\n",
    "def build_mlp(input_shape, output_units =  10, num_neurons = [512, 256, 128]):\n",
    "    input_layer = keras.layers.Input(input_shape)\n",
    "    \n",
    "    for i, n_units in enumerate(num_neurons):\n",
    "        if i == 0:\n",
    "            x = keras.layers.Dense(units=n_units, activation=\"relu\", name=\"hidden_layer\"+str(i+1))(input_layer)\n",
    "        else:\n",
    "            x = keras.layers.Dense(units=n_units, activation=\"relu\", name=\"hidden_layer\"+str(i+1))(x)\n",
    "    \n",
    "    out = keras.layers.Dense(units=output_units, activation=\"softmax\", name=\"output\")(x)\n",
    "    \n",
    "    model = keras.models.Model(inputs=[input_layer], outputs=[out])\n",
    "    return model\n",
    "\n",
    "model = build_mlp(x_train.shape[1:], 10, [512,256,128, 64, 32])\n",
    "model.summary()"
   ]
  },
  {
   "cell_type": "code",
   "execution_count": 10,
   "metadata": {},
   "outputs": [],
   "source": [
    "## 超參數設定\n",
    "LEARNING_RATE = 0.001\n",
    "EPOCHS = 100\n",
    "BATCH_SIZE = 256"
   ]
  },
  {
   "cell_type": "code",
   "execution_count": 11,
   "metadata": {},
   "outputs": [],
   "source": [
    "optimizer = keras.optimizers.Adam(lr=LEARNING_RATE)\n",
    "model.compile(loss=\"categorical_crossentropy\", metrics=[\"accuracy\"], optimizer=optimizer)"
   ]
  },
  {
   "cell_type": "code",
   "execution_count": 12,
   "metadata": {},
   "outputs": [
    {
     "name": "stdout",
     "output_type": "stream",
     "text": [
      "Train on 50000 samples, validate on 10000 samples\n",
      "Epoch 1/100\n",
      " 1024/50000 [..............................] - ETA: 1:43 - loss: 2.3795 - accuracy: 0.1035"
     ]
    },
    {
     "name": "stderr",
     "output_type": "stream",
     "text": [
      "D:\\tool\\Anaconda3\\lib\\site-packages\\keras\\callbacks\\callbacks.py:95: RuntimeWarning: Method (on_train_batch_end) is slow compared to the batch update (0.387215). Check your callbacks.\n",
      "  % (hook_name, delta_t_median), RuntimeWarning)\n"
     ]
    },
    {
     "name": "stdout",
     "output_type": "stream",
     "text": [
      "50000/50000 [==============================] - 21s 415us/step - loss: 2.0055 - accuracy: 0.2610 - val_loss: 1.8292 - val_accuracy: 0.3380\n",
      "Epoch 2/100\n",
      "50000/50000 [==============================] - 19s 381us/step - loss: 1.7750 - accuracy: 0.3577 - val_loss: 1.6861 - val_accuracy: 0.3951\n",
      "Epoch 3/100\n",
      "50000/50000 [==============================] - 19s 376us/step - loss: 1.6651 - accuracy: 0.4016 - val_loss: 1.6576 - val_accuracy: 0.4045\n",
      "Epoch 4/100\n",
      "50000/50000 [==============================] - 18s 364us/step - loss: 1.5965 - accuracy: 0.4267 - val_loss: 1.5690 - val_accuracy: 0.4400\n",
      "Epoch 5/100\n",
      "50000/50000 [==============================] - 18s 361us/step - loss: 1.5428 - accuracy: 0.4472 - val_loss: 1.5808 - val_accuracy: 0.4387\n",
      "Epoch 6/100\n",
      "50000/50000 [==============================] - 19s 371us/step - loss: 1.5048 - accuracy: 0.4627 - val_loss: 1.4971 - val_accuracy: 0.4681\n",
      "Epoch 7/100\n",
      "50000/50000 [==============================] - 18s 352us/step - loss: 1.4685 - accuracy: 0.4744 - val_loss: 1.4625 - val_accuracy: 0.4820\n",
      "Epoch 8/100\n",
      "50000/50000 [==============================] - 18s 364us/step - loss: 1.4347 - accuracy: 0.4889 - val_loss: 1.4562 - val_accuracy: 0.4847\n",
      "Epoch 9/100\n",
      "50000/50000 [==============================] - 18s 366us/step - loss: 1.4034 - accuracy: 0.4988 - val_loss: 1.4165 - val_accuracy: 0.4976\n",
      "Epoch 10/100\n",
      "50000/50000 [==============================] - 18s 359us/step - loss: 1.3793 - accuracy: 0.5084 - val_loss: 1.4487 - val_accuracy: 0.4816\n",
      "Epoch 11/100\n",
      "50000/50000 [==============================] - 18s 366us/step - loss: 1.3543 - accuracy: 0.5172 - val_loss: 1.4494 - val_accuracy: 0.4838\n",
      "Epoch 12/100\n",
      "50000/50000 [==============================] - 19s 374us/step - loss: 1.3438 - accuracy: 0.5222 - val_loss: 1.4093 - val_accuracy: 0.5002\n",
      "Epoch 13/100\n",
      "50000/50000 [==============================] - 18s 367us/step - loss: 1.3008 - accuracy: 0.5359 - val_loss: 1.4037 - val_accuracy: 0.5030\n",
      "Epoch 14/100\n",
      "50000/50000 [==============================] - 19s 370us/step - loss: 1.2841 - accuracy: 0.5417 - val_loss: 1.4097 - val_accuracy: 0.5047\n",
      "Epoch 15/100\n",
      "50000/50000 [==============================] - 18s 366us/step - loss: 1.2617 - accuracy: 0.5503 - val_loss: 1.4151 - val_accuracy: 0.5030\n",
      "Epoch 16/100\n",
      "50000/50000 [==============================] - 18s 355us/step - loss: 1.2294 - accuracy: 0.5617 - val_loss: 1.3916 - val_accuracy: 0.5069\n",
      "Epoch 17/100\n",
      "50000/50000 [==============================] - 18s 353us/step - loss: 1.2293 - accuracy: 0.5612 - val_loss: 1.3753 - val_accuracy: 0.5172\n",
      "Epoch 18/100\n",
      "50000/50000 [==============================] - 18s 351us/step - loss: 1.1931 - accuracy: 0.5742 - val_loss: 1.3636 - val_accuracy: 0.5174\n",
      "Epoch 19/100\n",
      "50000/50000 [==============================] - 18s 353us/step - loss: 1.1803 - accuracy: 0.5781 - val_loss: 1.4243 - val_accuracy: 0.5034\n",
      "Epoch 20/100\n",
      "50000/50000 [==============================] - 18s 364us/step - loss: 1.1555 - accuracy: 0.5879 - val_loss: 1.3762 - val_accuracy: 0.5205\n",
      "Epoch 21/100\n",
      "50000/50000 [==============================] - 18s 362us/step - loss: 1.1398 - accuracy: 0.5909 - val_loss: 1.3877 - val_accuracy: 0.5169\n",
      "Epoch 22/100\n",
      "50000/50000 [==============================] - 17s 349us/step - loss: 1.1119 - accuracy: 0.6038 - val_loss: 1.3574 - val_accuracy: 0.5249\n",
      "Epoch 23/100\n",
      "50000/50000 [==============================] - 18s 358us/step - loss: 1.0922 - accuracy: 0.6118 - val_loss: 1.3863 - val_accuracy: 0.5202\n",
      "Epoch 24/100\n",
      "50000/50000 [==============================] - 18s 364us/step - loss: 1.0645 - accuracy: 0.6200 - val_loss: 1.3875 - val_accuracy: 0.5198\n",
      "Epoch 25/100\n",
      "50000/50000 [==============================] - 18s 368us/step - loss: 1.0513 - accuracy: 0.6235 - val_loss: 1.4131 - val_accuracy: 0.5218\n",
      "Epoch 26/100\n",
      "50000/50000 [==============================] - 18s 355us/step - loss: 1.0318 - accuracy: 0.6300 - val_loss: 1.4041 - val_accuracy: 0.5206\n",
      "Epoch 27/100\n",
      "50000/50000 [==============================] - 18s 352us/step - loss: 1.0180 - accuracy: 0.6354 - val_loss: 1.4226 - val_accuracy: 0.5120\n",
      "Epoch 28/100\n",
      "50000/50000 [==============================] - 18s 351us/step - loss: 0.9990 - accuracy: 0.6425 - val_loss: 1.4269 - val_accuracy: 0.5294\n",
      "Epoch 29/100\n",
      "50000/50000 [==============================] - 18s 356us/step - loss: 0.9748 - accuracy: 0.6507 - val_loss: 1.3983 - val_accuracy: 0.5334\n",
      "Epoch 30/100\n",
      "50000/50000 [==============================] - 19s 373us/step - loss: 0.9611 - accuracy: 0.6543 - val_loss: 1.4226 - val_accuracy: 0.5217\n",
      "Epoch 31/100\n",
      "50000/50000 [==============================] - 18s 357us/step - loss: 0.9296 - accuracy: 0.6680 - val_loss: 1.4336 - val_accuracy: 0.5290\n",
      "Epoch 32/100\n",
      "50000/50000 [==============================] - 18s 362us/step - loss: 0.9198 - accuracy: 0.6700 - val_loss: 1.4964 - val_accuracy: 0.5152\n",
      "Epoch 33/100\n",
      "50000/50000 [==============================] - 18s 355us/step - loss: 0.9022 - accuracy: 0.6774 - val_loss: 1.4612 - val_accuracy: 0.5260\n",
      "Epoch 34/100\n",
      "50000/50000 [==============================] - 18s 360us/step - loss: 0.8878 - accuracy: 0.6811 - val_loss: 1.4871 - val_accuracy: 0.5297\n",
      "Epoch 35/100\n",
      "50000/50000 [==============================] - 18s 358us/step - loss: 0.8729 - accuracy: 0.6861 - val_loss: 1.5082 - val_accuracy: 0.5227\n",
      "Epoch 36/100\n",
      "50000/50000 [==============================] - 18s 360us/step - loss: 0.8529 - accuracy: 0.6947 - val_loss: 1.5120 - val_accuracy: 0.5203\n",
      "Epoch 37/100\n",
      "50000/50000 [==============================] - 18s 358us/step - loss: 0.8386 - accuracy: 0.6980 - val_loss: 1.5428 - val_accuracy: 0.5249\n",
      "Epoch 38/100\n",
      "50000/50000 [==============================] - 19s 372us/step - loss: 0.8248 - accuracy: 0.7033 - val_loss: 1.5697 - val_accuracy: 0.5161\n",
      "Epoch 39/100\n",
      "50000/50000 [==============================] - 18s 360us/step - loss: 0.8005 - accuracy: 0.7130 - val_loss: 1.5658 - val_accuracy: 0.5217\n",
      "Epoch 40/100\n",
      "50000/50000 [==============================] - 18s 352us/step - loss: 0.7789 - accuracy: 0.7210 - val_loss: 1.5624 - val_accuracy: 0.5235ss: 0.7752 -  - ETA\n",
      "Epoch 41/100\n",
      "50000/50000 [==============================] - 18s 354us/step - loss: 0.7632 - accuracy: 0.7262 - val_loss: 1.6276 - val_accuracy: 0.5214\n",
      "Epoch 42/100\n",
      "50000/50000 [==============================] - 18s 353us/step - loss: 0.7733 - accuracy: 0.7225 - val_loss: 1.5956 - val_accuracy: 0.5100\n",
      "Epoch 43/100\n",
      "50000/50000 [==============================] - 18s 358us/step - loss: 0.7473 - accuracy: 0.7331 - val_loss: 1.6560 - val_accuracy: 0.5213\n",
      "Epoch 44/100\n",
      "50000/50000 [==============================] - 18s 357us/step - loss: 0.7253 - accuracy: 0.7398 - val_loss: 1.6641 - val_accuracy: 0.5218\n",
      "Epoch 45/100\n",
      "50000/50000 [==============================] - 17s 345us/step - loss: 0.7115 - accuracy: 0.7458 - val_loss: 1.6881 - val_accuracy: 0.5256\n",
      "Epoch 46/100\n",
      "50000/50000 [==============================] - 18s 358us/step - loss: 0.7036 - accuracy: 0.7471 - val_loss: 1.6942 - val_accuracy: 0.5225\n",
      "Epoch 47/100\n",
      "50000/50000 [==============================] - 18s 358us/step - loss: 0.6835 - accuracy: 0.7533 - val_loss: 1.7612 - val_accuracy: 0.5113\n",
      "Epoch 48/100\n",
      "50000/50000 [==============================] - 18s 353us/step - loss: 0.6779 - accuracy: 0.7563 - val_loss: 1.7842 - val_accuracy: 0.5067\n",
      "Epoch 49/100\n",
      "50000/50000 [==============================] - 18s 361us/step - loss: 0.6597 - accuracy: 0.7632 - val_loss: 1.8758 - val_accuracy: 0.5056\n",
      "Epoch 50/100\n",
      "50000/50000 [==============================] - 18s 359us/step - loss: 0.6496 - accuracy: 0.7674 - val_loss: 1.8131 - val_accuracy: 0.5155\n",
      "Epoch 51/100\n",
      "50000/50000 [==============================] - 18s 358us/step - loss: 0.6469 - accuracy: 0.7677 - val_loss: 1.8255 - val_accuracy: 0.5188\n",
      "Epoch 52/100\n",
      "50000/50000 [==============================] - 18s 358us/step - loss: 0.6399 - accuracy: 0.7684 - val_loss: 1.8977 - val_accuracy: 0.5001\n",
      "Epoch 53/100\n",
      "50000/50000 [==============================] - 18s 358us/step - loss: 0.6198 - accuracy: 0.7773 - val_loss: 1.8663 - val_accuracy: 0.5108\n",
      "Epoch 54/100\n",
      "50000/50000 [==============================] - 19s 371us/step - loss: 0.5906 - accuracy: 0.7892 - val_loss: 1.8919 - val_accuracy: 0.5191\n",
      "Epoch 55/100\n"
     ]
    },
    {
     "name": "stdout",
     "output_type": "stream",
     "text": [
      "50000/50000 [==============================] - 17s 349us/step - loss: 0.5864 - accuracy: 0.7909 - val_loss: 1.9458 - val_accuracy: 0.5098\n",
      "Epoch 56/100\n",
      "50000/50000 [==============================] - 18s 352us/step - loss: 0.5884 - accuracy: 0.7884 - val_loss: 2.0225 - val_accuracy: 0.5151\n",
      "Epoch 57/100\n",
      "50000/50000 [==============================] - 18s 356us/step - loss: 0.5815 - accuracy: 0.7912 - val_loss: 2.0307 - val_accuracy: 0.5080\n",
      "Epoch 58/100\n",
      "50000/50000 [==============================] - 18s 357us/step - loss: 0.5572 - accuracy: 0.8014 - val_loss: 2.0366 - val_accuracy: 0.5200\n",
      "Epoch 59/100\n",
      "50000/50000 [==============================] - 18s 369us/step - loss: 0.5510 - accuracy: 0.8028 - val_loss: 2.0300 - val_accuracy: 0.5163\n",
      "Epoch 60/100\n",
      "50000/50000 [==============================] - 18s 360us/step - loss: 0.5410 - accuracy: 0.8057 - val_loss: 2.0927 - val_accuracy: 0.5135\n",
      "Epoch 61/100\n",
      "50000/50000 [==============================] - 18s 361us/step - loss: 0.5268 - accuracy: 0.8102 - val_loss: 2.1341 - val_accuracy: 0.5136\n",
      "Epoch 62/100\n",
      "50000/50000 [==============================] - 18s 362us/step - loss: 0.5256 - accuracy: 0.8114 - val_loss: 2.2145 - val_accuracy: 0.5093\n",
      "Epoch 63/100\n",
      "50000/50000 [==============================] - 18s 361us/step - loss: 0.5092 - accuracy: 0.8176 - val_loss: 2.1363 - val_accuracy: 0.5139\n",
      "Epoch 64/100\n",
      "50000/50000 [==============================] - 18s 355us/step - loss: 0.5136 - accuracy: 0.8147 - val_loss: 2.1627 - val_accuracy: 0.5163\n",
      "Epoch 65/100\n",
      "50000/50000 [==============================] - 18s 362us/step - loss: 0.4914 - accuracy: 0.8235 - val_loss: 2.1933 - val_accuracy: 0.5150\n",
      "Epoch 66/100\n",
      "50000/50000 [==============================] - 18s 354us/step - loss: 0.4864 - accuracy: 0.8251 - val_loss: 2.2642 - val_accuracy: 0.5151\n",
      "Epoch 67/100\n",
      "50000/50000 [==============================] - 18s 359us/step - loss: 0.4719 - accuracy: 0.8301 - val_loss: 2.2891 - val_accuracy: 0.5067\n",
      "Epoch 68/100\n",
      "50000/50000 [==============================] - 18s 358us/step - loss: 0.4810 - accuracy: 0.8273 - val_loss: 2.2972 - val_accuracy: 0.5115\n",
      "Epoch 69/100\n",
      "50000/50000 [==============================] - 18s 351us/step - loss: 0.4799 - accuracy: 0.8277 - val_loss: 2.3827 - val_accuracy: 0.4998\n",
      "Epoch 70/100\n",
      "50000/50000 [==============================] - 18s 365us/step - loss: 0.4528 - accuracy: 0.8353 - val_loss: 2.3472 - val_accuracy: 0.5131\n",
      "Epoch 71/100\n",
      "50000/50000 [==============================] - 19s 373us/step - loss: 0.4428 - accuracy: 0.8418 - val_loss: 2.4287 - val_accuracy: 0.5092\n",
      "Epoch 72/100\n",
      "50000/50000 [==============================] - 19s 381us/step - loss: 0.4210 - accuracy: 0.8496 - val_loss: 2.4588 - val_accuracy: 0.5002\n",
      "Epoch 73/100\n",
      "50000/50000 [==============================] - 18s 360us/step - loss: 0.4194 - accuracy: 0.8499 - val_loss: 2.6233 - val_accuracy: 0.4904\n",
      "Epoch 74/100\n",
      "50000/50000 [==============================] - 18s 356us/step - loss: 0.4515 - accuracy: 0.8364 - val_loss: 2.4920 - val_accuracy: 0.5076\n",
      "Epoch 75/100\n",
      "50000/50000 [==============================] - 17s 349us/step - loss: 0.4263 - accuracy: 0.8472 - val_loss: 2.5009 - val_accuracy: 0.5121\n",
      "Epoch 76/100\n",
      "50000/50000 [==============================] - 18s 356us/step - loss: 0.4154 - accuracy: 0.8512 - val_loss: 2.5568 - val_accuracy: 0.4992\n",
      "Epoch 77/100\n",
      "50000/50000 [==============================] - 18s 352us/step - loss: 0.4263 - accuracy: 0.8473 - val_loss: 2.5608 - val_accuracy: 0.5095\n",
      "Epoch 78/100\n",
      "50000/50000 [==============================] - 18s 355us/step - loss: 0.4059 - accuracy: 0.8545 - val_loss: 2.5925 - val_accuracy: 0.5061\n",
      "Epoch 79/100\n",
      "50000/50000 [==============================] - 17s 341us/step - loss: 0.3831 - accuracy: 0.8618 - val_loss: 2.6039 - val_accuracy: 0.5076\n",
      "Epoch 80/100\n",
      "50000/50000 [==============================] - 18s 351us/step - loss: 0.4101 - accuracy: 0.8531 - val_loss: 2.5680 - val_accuracy: 0.5076\n",
      "Epoch 81/100\n",
      "50000/50000 [==============================] - 17s 348us/step - loss: 0.3865 - accuracy: 0.8616 - val_loss: 2.6716 - val_accuracy: 0.5085\n",
      "Epoch 82/100\n",
      "50000/50000 [==============================] - 18s 350us/step - loss: 0.4014 - accuracy: 0.8562 - val_loss: 2.6741 - val_accuracy: 0.5087\n",
      "Epoch 83/100\n",
      "50000/50000 [==============================] - 18s 360us/step - loss: 0.3646 - accuracy: 0.8704 - val_loss: 2.8415 - val_accuracy: 0.4978\n",
      "Epoch 84/100\n",
      "50000/50000 [==============================] - 18s 356us/step - loss: 0.3808 - accuracy: 0.8627 - val_loss: 2.7483 - val_accuracy: 0.5103\n",
      "Epoch 85/100\n",
      "50000/50000 [==============================] - 18s 361us/step - loss: 0.3831 - accuracy: 0.8613 - val_loss: 2.7481 - val_accuracy: 0.5055\n",
      "Epoch 86/100\n",
      "50000/50000 [==============================] - 18s 360us/step - loss: 0.3654 - accuracy: 0.8695 - val_loss: 2.8997 - val_accuracy: 0.4996\n",
      "Epoch 87/100\n",
      "50000/50000 [==============================] - 18s 355us/step - loss: 0.3723 - accuracy: 0.8672 - val_loss: 2.7803 - val_accuracy: 0.5033\n",
      "Epoch 88/100\n",
      "50000/50000 [==============================] - 26486s 530ms/step - loss: 0.3889 - accuracy: 0.8610 - val_loss: 2.8154 - val_accuracy: 0.5095\n",
      "Epoch 89/100\n",
      "50000/50000 [==============================] - 20s 394us/step - loss: 0.3340 - accuracy: 0.8822 - val_loss: 2.8720 - val_accuracy: 0.5038\n",
      "Epoch 90/100\n",
      "50000/50000 [==============================] - 19s 381us/step - loss: 0.3453 - accuracy: 0.8766 - val_loss: 2.9373 - val_accuracy: 0.4953\n",
      "Epoch 91/100\n",
      "50000/50000 [==============================] - 19s 370us/step - loss: 0.3307 - accuracy: 0.8803 - val_loss: 2.9921 - val_accuracy: 0.4972\n",
      "Epoch 92/100\n",
      "50000/50000 [==============================] - 18s 366us/step - loss: 0.3535 - accuracy: 0.8721 - val_loss: 2.9222 - val_accuracy: 0.5055\n",
      "Epoch 93/100\n",
      "50000/50000 [==============================] - 18s 365us/step - loss: 0.3389 - accuracy: 0.8791 - val_loss: 2.9505 - val_accuracy: 0.4990\n",
      "Epoch 94/100\n",
      "50000/50000 [==============================] - 18s 365us/step - loss: 0.3240 - accuracy: 0.8841 - val_loss: 3.0050 - val_accuracy: 0.4950\n",
      "Epoch 95/100\n",
      "50000/50000 [==============================] - 18s 362us/step - loss: 0.3438 - accuracy: 0.8774 - val_loss: 3.1242 - val_accuracy: 0.5051\n",
      "Epoch 96/100\n",
      "50000/50000 [==============================] - 18s 357us/step - loss: 0.2900 - accuracy: 0.8969 - val_loss: 3.2319 - val_accuracy: 0.4969\n",
      "Epoch 97/100\n",
      "50000/50000 [==============================] - 18s 362us/step - loss: 0.3154 - accuracy: 0.8871 - val_loss: 3.1891 - val_accuracy: 0.5030\n",
      "Epoch 98/100\n",
      "50000/50000 [==============================] - 19s 373us/step - loss: 0.3414 - accuracy: 0.8782 - val_loss: 3.0616 - val_accuracy: 0.4998\n",
      "Epoch 99/100\n",
      "50000/50000 [==============================] - 18s 365us/step - loss: 0.3208 - accuracy: 0.8869 - val_loss: 3.2227 - val_accuracy: 0.4882\n",
      "Epoch 100/100\n",
      "50000/50000 [==============================] - 18s 356us/step - loss: 0.3270 - accuracy: 0.8832 - val_loss: 3.1816 - val_accuracy: 0.5017\n"
     ]
    },
    {
     "data": {
      "text/plain": [
       "<keras.callbacks.callbacks.History at 0x295dd3d9128>"
      ]
     },
     "execution_count": 12,
     "metadata": {},
     "output_type": "execute_result"
    }
   ],
   "source": [
    "model.fit(x_train, y_train, \n",
    "          epochs=EPOCHS, \n",
    "          batch_size=BATCH_SIZE, \n",
    "          validation_data=(x_test, y_test), \n",
    "          shuffle=True)"
   ]
  },
  {
   "cell_type": "code",
   "execution_count": 14,
   "metadata": {},
   "outputs": [
    {
     "data": {
      "image/png": "[encoded data removed]",
      "text/plain": [
       "<Figure size 432x288 with 1 Axes>"
      ]
     },
     "metadata": {
      "needs_background": "light"
     },
     "output_type": "display_data"
    },
    {
     "data": {
      "image/png": "[encoded data removed]",
      "text/plain": [
       "<Figure size 432x288 with 1 Axes>"
      ]
     },
     "metadata": {
      "needs_background": "light"
     },
     "output_type": "display_data"
    }
   ],
   "source": [
    "import matplotlib.pyplot as plt\n",
    "\n",
    "\n",
    "train_loss = model.history.history[\"loss\"]\n",
    "valid_loss = model.history.history[\"val_loss\"]\n",
    "\n",
    "train_acc = model.history.history[\"accuracy\"]\n",
    "valid_acc = model.history.history[\"val_accuracy\"]\n",
    "\n",
    "plt.plot(range(len(train_loss)), train_loss, label=\"train loss\")\n",
    "plt.plot(range(len(valid_loss)), valid_loss, label=\"valid loss\")\n",
    "plt.legend()\n",
    "plt.title(\"Loss\")\n",
    "plt.show()\n",
    "\n",
    "plt.plot(range(len(train_acc)), train_acc, label=\"train accuracy\")\n",
    "plt.plot(range(len(valid_acc)), valid_acc, label=\"valid accuracy\")\n",
    "plt.legend()\n",
    "plt.title(\"Accuracy\")\n",
    "plt.show()"
   ]
  },
  {
   "cell_type": "code",
   "execution_count": null,
   "metadata": {},
   "outputs": [],
   "source": []
  }
 ],
 "metadata": {
  "kernelspec": {
   "display_name": "Python 3",
   "language": "python",
   "name": "python3"
  },
  "language_info": {
   "codemirror_mode": {
    "name": "ipython",
    "version": 3
   },
   "file_extension": ".py",
   "mimetype": "text/x-python",
   "name": "python",
   "nbconvert_exporter": "python",
   "pygments_lexer": "ipython3",
   "version": "3.7.3"
  }
 },
 "nbformat": 4,
 "nbformat_minor": 2
}
